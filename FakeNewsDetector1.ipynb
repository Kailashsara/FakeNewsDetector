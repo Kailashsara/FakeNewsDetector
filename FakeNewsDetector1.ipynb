{
 "cells": [
  {
   "cell_type": "code",
   "execution_count": null,
   "id": "3028e4b0-2889-4cb3-981a-1f2f364bcb16",
   "metadata": {},
   "outputs": [
    {
     "name": "stderr",
     "output_type": "stream",
     "text": [
      "[nltk_data] Downloading package stopwords to\n",
      "[nltk_data]     C:\\Users\\sarav\\AppData\\Roaming\\nltk_data...\n",
      "[nltk_data]   Package stopwords is already up-to-date!\n"
     ]
    },
    {
     "name": "stdout",
     "output_type": "stream",
     "text": [
      "Accuracy: 92.74%\n",
      "[[586  52]\n",
      " [ 40 589]]\n"
     ]
    }
   ],
   "source": [
    "import pandas as pd\n",
    "from sklearn.model_selection import train_test_split\n",
    "from sklearn.feature_extraction.text import TfidfVectorizer\n",
    "from sklearn.linear_model import PassiveAggressiveClassifier\n",
    "from sklearn.metrics import accuracy_score, confusion_matrix\n",
    "import nltk\n",
    "nltk.download('stopwords')\n",
    "from nltk.corpus import stopwords\n",
    "import string\n",
    "\n",
    "# Load dataset (make sure to replace with your actual path)\n",
    "dataset_path = 'C:\\\\Users\\\\sarav\\\\FakeNewsDetector\\\\FakeNewsDetector\\\\.ipynb_checkpoints\\\\fake_or_real_news.csv.zip'\n",
    "df = pd.read_csv(dataset_path)\n",
    "\n",
    "# Preprocess the dataset\n",
    "stop_words = stopwords.words('english')\n",
    "df['text'] = df['text'].apply(lambda x: ' '.join([word for word in x.split() if word.lower() not in stop_words and word not in string.punctuation]))\n",
    "\n",
    "# Split the dataset\n",
    "X = df['text']\n",
    "y = df['label']\n",
    "X_train, X_test, y_train, y_test = train_test_split(X, y, test_size=0.2, random_state=7)\n",
    "\n",
    "# Transform the text data using TfidfVectorizer\n",
    "tfidf_vectorizer = TfidfVectorizer(stop_words='english', max_df=0.7)\n",
    "tfidf_train = tfidf_vectorizer.fit_transform(X_train)\n",
    "tfidf_test = tfidf_vectorizer.transform(X_test)\n",
    "\n",
    "# Train the PassiveAggressiveClassifier\n",
    "pac = PassiveAggressiveClassifier(max_iter=50)\n",
    "pac.fit(tfidf_train, y_train)\n",
    "\n",
    "# Predict on the test set\n",
    "y_pred = pac.predict(tfidf_test)\n",
    "\n",
    "# Calculate accuracy\n",
    "score = accuracy_score(y_test, y_pred)\n",
    "print(f'Accuracy: {round(score*100, 2)}%')\n",
    "\n",
    "# Confusion matrix\n",
    "cm = confusion_matrix(y_test, y_pred, labels=['FAKE', 'REAL'])\n",
    "print(cm)\n",
    "\n",
    "# Function to predict if a news article is real or fake\n",
    "def predict_news(news):\n",
    "    # Preprocess the input news\n",
    "    news_cleaned = ' '.join([word for word in news.split() if word.lower() not in stop_words and word not in string.punctuation])\n",
    "    # Transform the news using the trained TfidfVectorizer\n",
    "    news_tfidf = tfidf_vectorizer.transform([news_cleaned])\n",
    "    # Predict the label\n",
    "    prediction = pac.predict(news_tfidf)\n",
    "    return prediction[0]\n",
    "\n",
    "# Example usage\n",
    "news_article = input(\"Enter a news article to check if it is real or fake: \")\n",
    "result = predict_news(news_article)\n",
    "print(f'The news article is: {result}')\n"
   ]
  },
  {
   "cell_type": "code",
   "execution_count": null,
   "id": "401bad0c-fe19-4194-9978-c3fba82b77b8",
   "metadata": {},
   "outputs": [],
   "source": []
  }
 ],
 "metadata": {
  "kernelspec": {
   "display_name": "Python 3 (ipykernel)",
   "language": "python",
   "name": "python3"
  },
  "language_info": {
   "codemirror_mode": {
    "name": "ipython",
    "version": 3
   },
   "file_extension": ".py",
   "mimetype": "text/x-python",
   "name": "python",
   "nbconvert_exporter": "python",
   "pygments_lexer": "ipython3",
   "version": "3.11.7"
  }
 },
 "nbformat": 4,
 "nbformat_minor": 5
}
